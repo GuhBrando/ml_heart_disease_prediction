{
 "cells": [
  {
   "cell_type": "code",
   "execution_count": 4,
   "id": "977f3fe7-8b57-4b65-8895-6d17fb14f087",
   "metadata": {},
   "outputs": [],
   "source": [
    "import joblib\n",
    "import numpy as np"
   ]
  },
  {
   "cell_type": "code",
   "execution_count": 45,
   "id": "a40f7f73-f484-477e-bb42-4b1ddcd2553a",
   "metadata": {},
   "outputs": [],
   "source": [
    "model = joblib.load('ModeloRegressaoLogistica.pkl')"
   ]
  },
  {
   "cell_type": "code",
   "execution_count": 71,
   "id": "e27459b0-4699-49ce-a811-6a09e61997b2",
   "metadata": {},
   "outputs": [],
   "source": [
    "new_input = np.array([[1, 2, 2, 2, 1, 2, 2, 2, 2, 1, 5, 99, 2, 1, 1, 1, 4, 2, 1, 3, 1, 2, 12, 160, 78.02, 4, 1]])"
   ]
  },
  {
   "cell_type": "code",
   "execution_count": 90,
   "id": "9528b771-8719-45e2-810f-8f4e78c28956",
   "metadata": {},
   "outputs": [],
   "source": [
    "prediction = model.predict(new_input)"
   ]
  },
  {
   "cell_type": "code",
   "execution_count": 91,
   "id": "edd496e0-b04c-41da-9aaa-4bacc78b4e41",
   "metadata": {},
   "outputs": [],
   "source": [
    "probabilities = model.predict_proba(new_input)"
   ]
  },
  {
   "cell_type": "code",
   "execution_count": 92,
   "id": "2bbdec58-cd9b-416e-b483-459df0ce1444",
   "metadata": {},
   "outputs": [
    {
     "name": "stdout",
     "output_type": "stream",
     "text": [
      "Previsão: ['2']\n"
     ]
    }
   ],
   "source": [
    "print(f\"Previsão: {prediction}\")"
   ]
  },
  {
   "cell_type": "code",
   "execution_count": 93,
   "id": "4f75bc9c-8bdf-47fd-8601-8a571d0b6d00",
   "metadata": {},
   "outputs": [
    {
     "name": "stdout",
     "output_type": "stream",
     "text": [
      "Previsão: Você não possui um risco significativo de desenvolver uma doença cardiovascular, com uma confiança de 67.32%\n"
     ]
    }
   ],
   "source": [
    "predicted_class = prediction[0]\n",
    "confidence = np.max(probabilities) * 100\n",
    "\n",
    "resultado = \"sim\" if predicted_class == 1 else \"Você não possui um risco significativo de desenvolver uma doença cardiovascular\"\n",
    "\n",
    "# Exibindo o resultado\n",
    "print(f\"Previsão: {resultado}, com uma confiança de {confidence:.2f}%\")"
   ]
  },
  {
   "cell_type": "code",
   "execution_count": 88,
   "id": "5ddc0e89-c1c7-4a32-8566-f82fbda0c042",
   "metadata": {},
   "outputs": [],
   "source": [
    "modelo = joblib.load('ModeloRandomForest.pkl')"
   ]
  },
  {
   "cell_type": "code",
   "execution_count": 89,
   "id": "461c88c5-52c4-4843-b8c8-8fbd31692f62",
   "metadata": {},
   "outputs": [],
   "source": [
    "new_input = np.array([[1, 2, 2, 2, 1, 1, 1, 1, 1, 1, 5, 99, 2, 1, 1, 1, 4, 2, 1, 3, 1, 2, 12, 160, 78.02, 4, 1]])"
   ]
  },
  {
   "cell_type": "code",
   "execution_count": 83,
   "id": "fe3fcb43-1b97-4493-9893-58e27658b298",
   "metadata": {},
   "outputs": [],
   "source": [
    "prediction = modelo.predict(new_input)"
   ]
  },
  {
   "cell_type": "code",
   "execution_count": 84,
   "id": "5b307f4b-14e7-4c55-a670-c50fa9281530",
   "metadata": {},
   "outputs": [],
   "source": [
    "probabilities = modelo.predict_proba(new_input)"
   ]
  },
  {
   "cell_type": "code",
   "execution_count": 85,
   "id": "e0614c6a-2172-4e61-b52a-c1aec1ee894d",
   "metadata": {},
   "outputs": [
    {
     "name": "stdout",
     "output_type": "stream",
     "text": [
      "Previsão: ['2']\n"
     ]
    }
   ],
   "source": [
    "print(f\"Previsão: {prediction}\")"
   ]
  },
  {
   "cell_type": "code",
   "execution_count": 86,
   "id": "6b9ad4f1-7fb8-4f58-9f35-1c4b2a193caf",
   "metadata": {},
   "outputs": [
    {
     "name": "stdout",
     "output_type": "stream",
     "text": [
      "Previsão: Você não possui um risco significativo de desenvolver uma doença cardiovascular, com uma confiança de 80.00%\n"
     ]
    }
   ],
   "source": [
    "predicted_class = prediction[0]\n",
    "confidence = np.max(probabilities) * 100\n",
    "\n",
    "resultado = \"sim\" if predicted_class == 1 else \"Você não possui um risco significativo de desenvolver uma doença cardiovascular\"\n",
    "\n",
    "# Exibindo o resultado\n",
    "print(f\"Previsão: {resultado}, com uma confiança de {confidence:.2f}%\")"
   ]
  },
  {
   "cell_type": "code",
   "execution_count": null,
   "id": "79d2fc2e-3662-4002-baff-112023ebb1cc",
   "metadata": {},
   "outputs": [],
   "source": []
  }
 ],
 "metadata": {
  "kernelspec": {
   "display_name": "Python 3 (ipykernel)",
   "language": "python",
   "name": "python3"
  },
  "language_info": {
   "codemirror_mode": {
    "name": "ipython",
    "version": 3
   },
   "file_extension": ".py",
   "mimetype": "text/x-python",
   "name": "python",
   "nbconvert_exporter": "python",
   "pygments_lexer": "ipython3",
   "version": "3.12.4"
  }
 },
 "nbformat": 4,
 "nbformat_minor": 5
}
